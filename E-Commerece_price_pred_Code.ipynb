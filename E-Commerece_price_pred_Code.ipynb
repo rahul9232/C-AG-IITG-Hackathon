{
 "cells": [
  {
   "cell_type": "code",
   "execution_count": 1,
   "id": "63c1726a",
   "metadata": {},
   "outputs": [],
   "source": [
    "import numpy as np # linear algebra`13457\n",
    "import pandas as pd # data processing, CSV file I/O (e.g. pd.read_csv)\n",
    "import matplotlib.pyplot as plt # data visualization\n",
    "import seaborn as sns # statistical data visualization\n",
    "from sklearn.preprocessing import LabelEncoder\n",
    "import math \n",
    "%matplotlib inline\n",
    "import warnings\n",
    "warnings.filterwarnings('ignore')"
   ]
  },
  {
   "cell_type": "code",
   "execution_count": 2,
   "id": "aa2c477b",
   "metadata": {},
   "outputs": [],
   "source": [
    "train = pd.read_csv('train.csv')\n",
    "test = pd.read_csv('test.csv')"
   ]
  },
  {
   "cell_type": "code",
   "execution_count": 3,
   "id": "d39eeacc",
   "metadata": {},
   "outputs": [
    {
     "data": {
      "text/plain": [
       "id              0\n",
       "title           0\n",
       "Rating          0\n",
       "maincateg     526\n",
       "platform        0\n",
       "price1          0\n",
       "actprice1       0\n",
       "Offer %         0\n",
       "norating1     678\n",
       "noreviews1    578\n",
       "star_5f       588\n",
       "star_4f       539\n",
       "star_3f       231\n",
       "star_2f         0\n",
       "star_1f         0\n",
       "fulfilled1      0\n",
       "dtype: int64"
      ]
     },
     "execution_count": 3,
     "metadata": {},
     "output_type": "execute_result"
    }
   ],
   "source": [
    "train.isnull().sum()"
   ]
  },
  {
   "cell_type": "code",
   "execution_count": 4,
   "id": "0efbc0e3",
   "metadata": {},
   "outputs": [
    {
     "data": {
      "text/plain": [
       "id              0\n",
       "title           0\n",
       "Rating        203\n",
       "maincateg      67\n",
       "platform        0\n",
       "actprice1       0\n",
       "norating1       0\n",
       "noreviews1      0\n",
       "star_5f        68\n",
       "star_4f         0\n",
       "star_3f         0\n",
       "star_2f         0\n",
       "star_1f       186\n",
       "fulfilled1      0\n",
       "dtype: int64"
      ]
     },
     "execution_count": 4,
     "metadata": {},
     "output_type": "execute_result"
    }
   ],
   "source": [
    "test.isnull().sum()"
   ]
  },
  {
   "cell_type": "code",
   "execution_count": 5,
   "id": "bf93c271",
   "metadata": {},
   "outputs": [],
   "source": [
    "from sklearn.metrics import mean_squared_error as mse"
   ]
  },
  {
   "cell_type": "code",
   "execution_count": 6,
   "id": "5d4b1968",
   "metadata": {},
   "outputs": [
    {
     "data": {
      "text/plain": [
       "38"
      ]
     },
     "execution_count": 6,
     "metadata": {},
     "output_type": "execute_result"
    }
   ],
   "source": [
    "#For norating1\n",
    "c=0\n",
    "for i in range(len(train)):\n",
    "    s5=pd.isna(train['star_5f'][i])\n",
    "    s4=pd.isna(train['star_4f'][i])\n",
    "    s3=pd.isna(train['star_3f'][i])\n",
    "    nr=pd.isna(train['norating1'][i])\n",
    "    if(s5==False and s4==False and s3==False and nr==True):\n",
    "        train['norating1'][i]=train['star_3f'][i]+train['star_5f'][i]+train['star_4f'][i]+train['star_2f'][i]+train['star_1f'][i]\n",
    "        c+=1\n",
    "c"
   ]
  },
  {
   "cell_type": "code",
   "execution_count": 7,
   "id": "7a96ff5a",
   "metadata": {},
   "outputs": [
    {
     "data": {
      "text/plain": [
       "45"
      ]
     },
     "execution_count": 7,
     "metadata": {},
     "output_type": "execute_result"
    }
   ],
   "source": [
    "cnt=0\n",
    "for i in range(len(test)):\n",
    "    if(pd.isna(test['star_5f'][i])&pd.isna(test['star_1f'][i])):\n",
    "        cnt+=1\n",
    "    elif(pd.isna(test['star_5f'][i])):\n",
    "        test['star_5f'][i]=test['norating1'][i]-(test['star_1f'][i]+test['star_2f'][i]+test['star_3f'][i]+test['star_4f'][i])\n",
    "    elif(pd.isna(test['star_1f'][i])):\n",
    "        test['star_1f'][i]=test['norating1'][i]-(test['star_5f'][i]+test['star_2f'][i]+test['star_3f'][i]+test['star_4f'][i])\n",
    "    else:\n",
    "        continue\n",
    "cnt"
   ]
  },
  {
   "cell_type": "code",
   "execution_count": 8,
   "id": "2b2a0d07",
   "metadata": {},
   "outputs": [],
   "source": [
    "for i in range(len(test)):\n",
    "    if(pd.isna(test['star_5f'][i])&pd.isna(test['star_1f'][i])):\n",
    "        test['star_5f'][i]=round((test['norating1'][i]-test['star_2f'][i]-test['star_3f'][i]-test['star_4f'][i])/2)\n",
    "        test['star_1f'][i]=test['norating1'][i]-test['star_2f'][i]-test['star_3f'][i]-test['star_4f'][i]-test['star_5f'][i]"
   ]
  },
  {
   "cell_type": "code",
   "execution_count": 9,
   "id": "d0fe1f52",
   "metadata": {},
   "outputs": [],
   "source": [
    "for i in range(len(test)):\n",
    "    if(pd.isna(test['Rating'][i])):\n",
    "        if(test['norating1'][i]==0):\n",
    "            test['Rating'][i]=0\n",
    "        else:\n",
    "            test['Rating'][i]=(test['star_5f'][i]*5+test['star_4f'][i]*4+test['star_3f'][i]*3+test['star_2f'][i]*2+test['star_1f'][i]*1)/test['norating1'][i]"
   ]
  },
  {
   "cell_type": "code",
   "execution_count": 10,
   "id": "bdf695e4",
   "metadata": {},
   "outputs": [],
   "source": [
    "def fill_maincateg(df):\n",
    "    for ind, item in enumerate(df.maincateg):\n",
    "        if(item!=\"Men\" and item != \"Women\"):\n",
    "            if(\"Men\" in df.title[ind]):\n",
    "                df.loc[ind, \"maincateg\"] = 'Men'\n",
    "            else:\n",
    "                df.loc[ind, \"maincateg\"] = 'Women'\n",
    "    print(\"Done\")\n",
    "    \n",
    "    return df"
   ]
  },
  {
   "cell_type": "code",
   "execution_count": 11,
   "id": "ec6820ca",
   "metadata": {},
   "outputs": [
    {
     "name": "stdout",
     "output_type": "stream",
     "text": [
      "Done\n",
      "Done\n"
     ]
    },
    {
     "data": {
      "text/html": [
       "<div>\n",
       "<style scoped>\n",
       "    .dataframe tbody tr th:only-of-type {\n",
       "        vertical-align: middle;\n",
       "    }\n",
       "\n",
       "    .dataframe tbody tr th {\n",
       "        vertical-align: top;\n",
       "    }\n",
       "\n",
       "    .dataframe thead th {\n",
       "        text-align: right;\n",
       "    }\n",
       "</style>\n",
       "<table border=\"1\" class=\"dataframe\">\n",
       "  <thead>\n",
       "    <tr style=\"text-align: right;\">\n",
       "      <th></th>\n",
       "      <th>id</th>\n",
       "      <th>title</th>\n",
       "      <th>Rating</th>\n",
       "      <th>maincateg</th>\n",
       "      <th>platform</th>\n",
       "      <th>actprice1</th>\n",
       "      <th>norating1</th>\n",
       "      <th>noreviews1</th>\n",
       "      <th>star_5f</th>\n",
       "      <th>star_4f</th>\n",
       "      <th>star_3f</th>\n",
       "      <th>star_2f</th>\n",
       "      <th>star_1f</th>\n",
       "      <th>fulfilled1</th>\n",
       "    </tr>\n",
       "  </thead>\n",
       "  <tbody>\n",
       "    <tr>\n",
       "      <th>0</th>\n",
       "      <td>2242</td>\n",
       "      <td>Casuals For Men  (Blue)</td>\n",
       "      <td>3.800000</td>\n",
       "      <td>Men</td>\n",
       "      <td>Flipkart</td>\n",
       "      <td>999</td>\n",
       "      <td>27928</td>\n",
       "      <td>3543</td>\n",
       "      <td>14238.0</td>\n",
       "      <td>4295</td>\n",
       "      <td>3457</td>\n",
       "      <td>1962</td>\n",
       "      <td>3976.0</td>\n",
       "      <td>1</td>\n",
       "    </tr>\n",
       "    <tr>\n",
       "      <th>1</th>\n",
       "      <td>20532</td>\n",
       "      <td>Women Black Flats Sandal</td>\n",
       "      <td>3.900000</td>\n",
       "      <td>Women</td>\n",
       "      <td>Flipkart</td>\n",
       "      <td>499</td>\n",
       "      <td>3015</td>\n",
       "      <td>404</td>\n",
       "      <td>1458.0</td>\n",
       "      <td>657</td>\n",
       "      <td>397</td>\n",
       "      <td>182</td>\n",
       "      <td>321.0</td>\n",
       "      <td>1</td>\n",
       "    </tr>\n",
       "    <tr>\n",
       "      <th>2</th>\n",
       "      <td>10648</td>\n",
       "      <td>Women Gold Wedges Sandal</td>\n",
       "      <td>3.900000</td>\n",
       "      <td>Women</td>\n",
       "      <td>Flipkart</td>\n",
       "      <td>999</td>\n",
       "      <td>449</td>\n",
       "      <td>52</td>\n",
       "      <td>229.0</td>\n",
       "      <td>70</td>\n",
       "      <td>71</td>\n",
       "      <td>33</td>\n",
       "      <td>46.0</td>\n",
       "      <td>1</td>\n",
       "    </tr>\n",
       "    <tr>\n",
       "      <th>3</th>\n",
       "      <td>20677</td>\n",
       "      <td>Men's Height Increasing High Heel Formal Party...</td>\n",
       "      <td>3.900000</td>\n",
       "      <td>Men</td>\n",
       "      <td>Flipkart</td>\n",
       "      <td>2999</td>\n",
       "      <td>290</td>\n",
       "      <td>40</td>\n",
       "      <td>141.0</td>\n",
       "      <td>51</td>\n",
       "      <td>49</td>\n",
       "      <td>17</td>\n",
       "      <td>32.0</td>\n",
       "      <td>1</td>\n",
       "    </tr>\n",
       "    <tr>\n",
       "      <th>4</th>\n",
       "      <td>12593</td>\n",
       "      <td>Loafers For Men  (Tan)</td>\n",
       "      <td>3.900000</td>\n",
       "      <td>Men</td>\n",
       "      <td>Flipkart</td>\n",
       "      <td>999</td>\n",
       "      <td>2423</td>\n",
       "      <td>326</td>\n",
       "      <td>1265.0</td>\n",
       "      <td>414</td>\n",
       "      <td>293</td>\n",
       "      <td>143</td>\n",
       "      <td>308.0</td>\n",
       "      <td>0</td>\n",
       "    </tr>\n",
       "    <tr>\n",
       "      <th>...</th>\n",
       "      <td>...</td>\n",
       "      <td>...</td>\n",
       "      <td>...</td>\n",
       "      <td>...</td>\n",
       "      <td>...</td>\n",
       "      <td>...</td>\n",
       "      <td>...</td>\n",
       "      <td>...</td>\n",
       "      <td>...</td>\n",
       "      <td>...</td>\n",
       "      <td>...</td>\n",
       "      <td>...</td>\n",
       "      <td>...</td>\n",
       "      <td>...</td>\n",
       "    </tr>\n",
       "    <tr>\n",
       "      <th>5239</th>\n",
       "      <td>14033</td>\n",
       "      <td>Women Off White Flats Sandal</td>\n",
       "      <td>3.212955</td>\n",
       "      <td>Women</td>\n",
       "      <td>Flipkart</td>\n",
       "      <td>699</td>\n",
       "      <td>1235</td>\n",
       "      <td>153</td>\n",
       "      <td>348.0</td>\n",
       "      <td>323</td>\n",
       "      <td>155</td>\n",
       "      <td>62</td>\n",
       "      <td>347.0</td>\n",
       "      <td>1</td>\n",
       "    </tr>\n",
       "    <tr>\n",
       "      <th>5240</th>\n",
       "      <td>297</td>\n",
       "      <td>Slip On For Men  (Tan)</td>\n",
       "      <td>3.900000</td>\n",
       "      <td>Men</td>\n",
       "      <td>Flipkart</td>\n",
       "      <td>1993</td>\n",
       "      <td>329</td>\n",
       "      <td>56</td>\n",
       "      <td>350.0</td>\n",
       "      <td>37</td>\n",
       "      <td>60</td>\n",
       "      <td>5</td>\n",
       "      <td>37.0</td>\n",
       "      <td>0</td>\n",
       "    </tr>\n",
       "    <tr>\n",
       "      <th>5241</th>\n",
       "      <td>18733</td>\n",
       "      <td>Women Grey Heels Sandal</td>\n",
       "      <td>3.800000</td>\n",
       "      <td>Women</td>\n",
       "      <td>Flipkart</td>\n",
       "      <td>999</td>\n",
       "      <td>1280</td>\n",
       "      <td>135</td>\n",
       "      <td>574.0</td>\n",
       "      <td>290</td>\n",
       "      <td>172</td>\n",
       "      <td>94</td>\n",
       "      <td>150.0</td>\n",
       "      <td>0</td>\n",
       "    </tr>\n",
       "    <tr>\n",
       "      <th>5242</th>\n",
       "      <td>6162</td>\n",
       "      <td>Womens Casual Comfort Stylish Black High Heel ...</td>\n",
       "      <td>3.900000</td>\n",
       "      <td>Women</td>\n",
       "      <td>Flipkart</td>\n",
       "      <td>499</td>\n",
       "      <td>4867</td>\n",
       "      <td>574</td>\n",
       "      <td>2384.0</td>\n",
       "      <td>974</td>\n",
       "      <td>648</td>\n",
       "      <td>328</td>\n",
       "      <td>533.0</td>\n",
       "      <td>0</td>\n",
       "    </tr>\n",
       "    <tr>\n",
       "      <th>5243</th>\n",
       "      <td>13574</td>\n",
       "      <td>ZAPATOZ Women's Casual PU Leather Sneaker Shoes</td>\n",
       "      <td>3.900000</td>\n",
       "      <td>Women</td>\n",
       "      <td>Amazon</td>\n",
       "      <td>749</td>\n",
       "      <td>8</td>\n",
       "      <td>5</td>\n",
       "      <td>28.0</td>\n",
       "      <td>0</td>\n",
       "      <td>0</td>\n",
       "      <td>0</td>\n",
       "      <td>72.0</td>\n",
       "      <td>1</td>\n",
       "    </tr>\n",
       "  </tbody>\n",
       "</table>\n",
       "<p>5244 rows × 14 columns</p>\n",
       "</div>"
      ],
      "text/plain": [
       "         id                                              title    Rating  \\\n",
       "0      2242                            Casuals For Men  (Blue)  3.800000   \n",
       "1     20532                           Women Black Flats Sandal  3.900000   \n",
       "2     10648                           Women Gold Wedges Sandal  3.900000   \n",
       "3     20677  Men's Height Increasing High Heel Formal Party...  3.900000   \n",
       "4     12593                             Loafers For Men  (Tan)  3.900000   \n",
       "...     ...                                                ...       ...   \n",
       "5239  14033                       Women Off White Flats Sandal  3.212955   \n",
       "5240    297                             Slip On For Men  (Tan)  3.900000   \n",
       "5241  18733                            Women Grey Heels Sandal  3.800000   \n",
       "5242   6162  Womens Casual Comfort Stylish Black High Heel ...  3.900000   \n",
       "5243  13574    ZAPATOZ Women's Casual PU Leather Sneaker Shoes  3.900000   \n",
       "\n",
       "     maincateg  platform  actprice1  norating1  noreviews1  star_5f  star_4f  \\\n",
       "0          Men  Flipkart        999      27928        3543  14238.0     4295   \n",
       "1        Women  Flipkart        499       3015         404   1458.0      657   \n",
       "2        Women  Flipkart        999        449          52    229.0       70   \n",
       "3          Men  Flipkart       2999        290          40    141.0       51   \n",
       "4          Men  Flipkart        999       2423         326   1265.0      414   \n",
       "...        ...       ...        ...        ...         ...      ...      ...   \n",
       "5239     Women  Flipkart        699       1235         153    348.0      323   \n",
       "5240       Men  Flipkart       1993        329          56    350.0       37   \n",
       "5241     Women  Flipkart        999       1280         135    574.0      290   \n",
       "5242     Women  Flipkart        499       4867         574   2384.0      974   \n",
       "5243     Women    Amazon        749          8           5     28.0        0   \n",
       "\n",
       "      star_3f  star_2f  star_1f  fulfilled1  \n",
       "0        3457     1962   3976.0           1  \n",
       "1         397      182    321.0           1  \n",
       "2          71       33     46.0           1  \n",
       "3          49       17     32.0           1  \n",
       "4         293      143    308.0           0  \n",
       "...       ...      ...      ...         ...  \n",
       "5239      155       62    347.0           1  \n",
       "5240       60        5     37.0           0  \n",
       "5241      172       94    150.0           0  \n",
       "5242      648      328    533.0           0  \n",
       "5243        0        0     72.0           1  \n",
       "\n",
       "[5244 rows x 14 columns]"
      ]
     },
     "execution_count": 11,
     "metadata": {},
     "output_type": "execute_result"
    }
   ],
   "source": [
    "fill_maincateg(train)\n",
    "fill_maincateg(test)"
   ]
  },
  {
   "cell_type": "code",
   "execution_count": 12,
   "id": "ec000eb3",
   "metadata": {},
   "outputs": [],
   "source": [
    "train[\"noreviews1\"] = train[\"noreviews1\"].fillna(train[\"noreviews1\"].mean())\n",
    "train[\"star_5f\"] = train[\"star_5f\"].fillna(train[\"star_5f\"].mean())\n",
    "train[\"star_4f\"] = train[\"star_4f\"].fillna(train[\"star_4f\"].mean())\n",
    "train[\"star_3f\"] = train[\"star_3f\"].fillna(train[\"star_3f\"].mean())"
   ]
  },
  {
   "cell_type": "code",
   "execution_count": 13,
   "id": "2696c306",
   "metadata": {},
   "outputs": [],
   "source": [
    "train['maincateg'].replace({'Men':1, 'Women':0}, inplace=True)\n",
    "train['platform'].replace({'Flipkart':1, 'Amazon':0}, inplace=True)"
   ]
  },
  {
   "cell_type": "code",
   "execution_count": 14,
   "id": "2e28fadf",
   "metadata": {},
   "outputs": [],
   "source": [
    "coloumn=['star_5f','star_4f','star_3f','star_2f','star_1f']\n",
    "train['norating1'] = train[coloumn].sum(axis=1)"
   ]
  },
  {
   "cell_type": "code",
   "execution_count": 15,
   "id": "909cd2c0",
   "metadata": {},
   "outputs": [],
   "source": [
    "test[\"star_5f\"] = test[\"star_5f\"].fillna(test[\"star_5f\"].mean())\n",
    "test[\"star_1f\"] = test[\"star_1f\"].fillna(test[\"star_1f\"].mean())"
   ]
  },
  {
   "cell_type": "code",
   "execution_count": 16,
   "id": "fd5c47ba",
   "metadata": {},
   "outputs": [],
   "source": [
    "test['maincateg'].replace({'Men':1, 'Women':0}, inplace=True)\n",
    "test['platform'].replace({'Flipkart':1, 'Amazon':0}, inplace=True)"
   ]
  },
  {
   "cell_type": "code",
   "execution_count": 17,
   "id": "88434606",
   "metadata": {},
   "outputs": [],
   "source": [
    "test[\"Rating\"] = test[\"Rating\"].fillna(test[\"Rating\"].mean())"
   ]
  },
  {
   "cell_type": "code",
   "execution_count": 18,
   "id": "0523c127",
   "metadata": {},
   "outputs": [
    {
     "data": {
      "text/html": [
       "<div>\n",
       "<style scoped>\n",
       "    .dataframe tbody tr th:only-of-type {\n",
       "        vertical-align: middle;\n",
       "    }\n",
       "\n",
       "    .dataframe tbody tr th {\n",
       "        vertical-align: top;\n",
       "    }\n",
       "\n",
       "    .dataframe thead th {\n",
       "        text-align: right;\n",
       "    }\n",
       "</style>\n",
       "<table border=\"1\" class=\"dataframe\">\n",
       "  <thead>\n",
       "    <tr style=\"text-align: right;\">\n",
       "      <th></th>\n",
       "      <th>id</th>\n",
       "    </tr>\n",
       "  </thead>\n",
       "  <tbody>\n",
       "    <tr>\n",
       "      <th>0</th>\n",
       "      <td>2242</td>\n",
       "    </tr>\n",
       "    <tr>\n",
       "      <th>1</th>\n",
       "      <td>20532</td>\n",
       "    </tr>\n",
       "    <tr>\n",
       "      <th>2</th>\n",
       "      <td>10648</td>\n",
       "    </tr>\n",
       "    <tr>\n",
       "      <th>3</th>\n",
       "      <td>20677</td>\n",
       "    </tr>\n",
       "    <tr>\n",
       "      <th>4</th>\n",
       "      <td>12593</td>\n",
       "    </tr>\n",
       "  </tbody>\n",
       "</table>\n",
       "</div>"
      ],
      "text/plain": [
       "      id\n",
       "0   2242\n",
       "1  20532\n",
       "2  10648\n",
       "3  20677\n",
       "4  12593"
      ]
     },
     "execution_count": 18,
     "metadata": {},
     "output_type": "execute_result"
    }
   ],
   "source": [
    "#Saving id from test\n",
    "ID=pd.DataFrame(test['id'])\n",
    "ID.head()"
   ]
  },
  {
   "cell_type": "code",
   "execution_count": 19,
   "id": "7e5e8db5",
   "metadata": {},
   "outputs": [],
   "source": [
    "#Drop id from both\n",
    "train.drop(['id'], axis=1,inplace=True)\n",
    "test.drop(['id'], axis=1,inplace=True)"
   ]
  },
  {
   "cell_type": "code",
   "execution_count": 20,
   "id": "ecfdad89",
   "metadata": {},
   "outputs": [],
   "source": [
    "#Dropping 'offer' column\n",
    "train.drop(['Offer %'], axis=1,inplace=True)"
   ]
  },
  {
   "cell_type": "code",
   "execution_count": 21,
   "id": "09383b6e",
   "metadata": {},
   "outputs": [
    {
     "data": {
      "image/png": "[encoded data removed]",
      "text/plain": [
       "<Figure size 864x720 with 2 Axes>"
      ]
     },
     "metadata": {
      "needs_background": "light"
     },
     "output_type": "display_data"
    }
   ],
   "source": [
    "#Plotting Correlation Matrix\n",
    "plt.figure(figsize=(12,10))\n",
    "cor=train.corr()\n",
    "sns.heatmap(cor,annot=True,cmap=plt.cm.CMRmap_r)\n",
    "plt.show()"
   ]
  },
  {
   "cell_type": "code",
   "execution_count": 22,
   "id": "7cafa0bb",
   "metadata": {},
   "outputs": [],
   "source": [
    "train = train.drop(['star_5f','star_4f','star_3f','star_2f','star_1f'], axis=1)\n",
    "test = test.drop(['star_5f','star_4f','star_3f','star_2f','star_1f'], axis=1)"
   ]
  },
  {
   "cell_type": "code",
   "execution_count": 23,
   "id": "51e3fc78",
   "metadata": {},
   "outputs": [],
   "source": [
    "#Now Drop 'Title'\n",
    "train.drop(['title'], axis=1,inplace=True)\n",
    "test.drop(['title'], axis=1,inplace=True)"
   ]
  },
  {
   "cell_type": "code",
   "execution_count": 24,
   "id": "33554684",
   "metadata": {},
   "outputs": [
    {
     "data": {
      "text/html": [
       "<div>\n",
       "<style scoped>\n",
       "    .dataframe tbody tr th:only-of-type {\n",
       "        vertical-align: middle;\n",
       "    }\n",
       "\n",
       "    .dataframe tbody tr th {\n",
       "        vertical-align: top;\n",
       "    }\n",
       "\n",
       "    .dataframe thead th {\n",
       "        text-align: right;\n",
       "    }\n",
       "</style>\n",
       "<table border=\"1\" class=\"dataframe\">\n",
       "  <thead>\n",
       "    <tr style=\"text-align: right;\">\n",
       "      <th></th>\n",
       "      <th>Rating</th>\n",
       "      <th>maincateg</th>\n",
       "      <th>platform</th>\n",
       "      <th>price1</th>\n",
       "      <th>actprice1</th>\n",
       "      <th>norating1</th>\n",
       "      <th>noreviews1</th>\n",
       "      <th>fulfilled1</th>\n",
       "    </tr>\n",
       "  </thead>\n",
       "  <tbody>\n",
       "    <tr>\n",
       "      <th>0</th>\n",
       "      <td>3.9</td>\n",
       "      <td>0</td>\n",
       "      <td>1</td>\n",
       "      <td>698</td>\n",
       "      <td>999</td>\n",
       "      <td>38.0</td>\n",
       "      <td>7.0</td>\n",
       "      <td>0</td>\n",
       "    </tr>\n",
       "    <tr>\n",
       "      <th>1</th>\n",
       "      <td>3.8</td>\n",
       "      <td>1</td>\n",
       "      <td>1</td>\n",
       "      <td>999</td>\n",
       "      <td>1999</td>\n",
       "      <td>531.0</td>\n",
       "      <td>69.0</td>\n",
       "      <td>1</td>\n",
       "    </tr>\n",
       "    <tr>\n",
       "      <th>2</th>\n",
       "      <td>4.4</td>\n",
       "      <td>0</td>\n",
       "      <td>1</td>\n",
       "      <td>2749</td>\n",
       "      <td>4999</td>\n",
       "      <td>17.0</td>\n",
       "      <td>4.0</td>\n",
       "      <td>1</td>\n",
       "    </tr>\n",
       "    <tr>\n",
       "      <th>3</th>\n",
       "      <td>4.2</td>\n",
       "      <td>1</td>\n",
       "      <td>1</td>\n",
       "      <td>518</td>\n",
       "      <td>724</td>\n",
       "      <td>24109.0</td>\n",
       "      <td>6229.0</td>\n",
       "      <td>1</td>\n",
       "    </tr>\n",
       "    <tr>\n",
       "      <th>4</th>\n",
       "      <td>3.9</td>\n",
       "      <td>1</td>\n",
       "      <td>1</td>\n",
       "      <td>1379</td>\n",
       "      <td>2299</td>\n",
       "      <td>77.0</td>\n",
       "      <td>3.0</td>\n",
       "      <td>1</td>\n",
       "    </tr>\n",
       "  </tbody>\n",
       "</table>\n",
       "</div>"
      ],
      "text/plain": [
       "   Rating  maincateg  platform  price1  actprice1  norating1  noreviews1  \\\n",
       "0     3.9          0         1     698        999       38.0         7.0   \n",
       "1     3.8          1         1     999       1999      531.0        69.0   \n",
       "2     4.4          0         1    2749       4999       17.0         4.0   \n",
       "3     4.2          1         1     518        724    24109.0      6229.0   \n",
       "4     3.9          1         1    1379       2299       77.0         3.0   \n",
       "\n",
       "   fulfilled1  \n",
       "0           0  \n",
       "1           1  \n",
       "2           1  \n",
       "3           1  \n",
       "4           1  "
      ]
     },
     "execution_count": 24,
     "metadata": {},
     "output_type": "execute_result"
    }
   ],
   "source": [
    "train.head()"
   ]
  },
  {
   "cell_type": "code",
   "execution_count": 25,
   "id": "740a4f25",
   "metadata": {},
   "outputs": [
    {
     "data": {
      "text/html": [
       "<div>\n",
       "<style scoped>\n",
       "    .dataframe tbody tr th:only-of-type {\n",
       "        vertical-align: middle;\n",
       "    }\n",
       "\n",
       "    .dataframe tbody tr th {\n",
       "        vertical-align: top;\n",
       "    }\n",
       "\n",
       "    .dataframe thead th {\n",
       "        text-align: right;\n",
       "    }\n",
       "</style>\n",
       "<table border=\"1\" class=\"dataframe\">\n",
       "  <thead>\n",
       "    <tr style=\"text-align: right;\">\n",
       "      <th></th>\n",
       "      <th>Rating</th>\n",
       "      <th>maincateg</th>\n",
       "      <th>platform</th>\n",
       "      <th>actprice1</th>\n",
       "      <th>norating1</th>\n",
       "      <th>noreviews1</th>\n",
       "      <th>fulfilled1</th>\n",
       "    </tr>\n",
       "  </thead>\n",
       "  <tbody>\n",
       "    <tr>\n",
       "      <th>0</th>\n",
       "      <td>3.8</td>\n",
       "      <td>1</td>\n",
       "      <td>1</td>\n",
       "      <td>999</td>\n",
       "      <td>27928</td>\n",
       "      <td>3543</td>\n",
       "      <td>1</td>\n",
       "    </tr>\n",
       "    <tr>\n",
       "      <th>1</th>\n",
       "      <td>3.9</td>\n",
       "      <td>0</td>\n",
       "      <td>1</td>\n",
       "      <td>499</td>\n",
       "      <td>3015</td>\n",
       "      <td>404</td>\n",
       "      <td>1</td>\n",
       "    </tr>\n",
       "    <tr>\n",
       "      <th>2</th>\n",
       "      <td>3.9</td>\n",
       "      <td>0</td>\n",
       "      <td>1</td>\n",
       "      <td>999</td>\n",
       "      <td>449</td>\n",
       "      <td>52</td>\n",
       "      <td>1</td>\n",
       "    </tr>\n",
       "    <tr>\n",
       "      <th>3</th>\n",
       "      <td>3.9</td>\n",
       "      <td>1</td>\n",
       "      <td>1</td>\n",
       "      <td>2999</td>\n",
       "      <td>290</td>\n",
       "      <td>40</td>\n",
       "      <td>1</td>\n",
       "    </tr>\n",
       "    <tr>\n",
       "      <th>4</th>\n",
       "      <td>3.9</td>\n",
       "      <td>1</td>\n",
       "      <td>1</td>\n",
       "      <td>999</td>\n",
       "      <td>2423</td>\n",
       "      <td>326</td>\n",
       "      <td>0</td>\n",
       "    </tr>\n",
       "  </tbody>\n",
       "</table>\n",
       "</div>"
      ],
      "text/plain": [
       "   Rating  maincateg  platform  actprice1  norating1  noreviews1  fulfilled1\n",
       "0     3.8          1         1        999      27928        3543           1\n",
       "1     3.9          0         1        499       3015         404           1\n",
       "2     3.9          0         1        999        449          52           1\n",
       "3     3.9          1         1       2999        290          40           1\n",
       "4     3.9          1         1        999       2423         326           0"
      ]
     },
     "execution_count": 25,
     "metadata": {},
     "output_type": "execute_result"
    }
   ],
   "source": [
    "test.head()"
   ]
  },
  {
   "cell_type": "code",
   "execution_count": 26,
   "id": "8ed6f57a",
   "metadata": {},
   "outputs": [],
   "source": [
    "#Seperating X & y\n",
    "X = train.drop(['price1'], axis=1)\n",
    "y = train['price1']"
   ]
  },
  {
   "cell_type": "code",
   "execution_count": 27,
   "id": "7a943f56",
   "metadata": {},
   "outputs": [],
   "source": [
    "#Splitting data into x_train and x_test(for train.csv file)\n",
    "from sklearn.model_selection import train_test_split\n",
    "X_train, X_test, y_train, y_test = train_test_split(X, y, test_size = 0.20, random_state = None)"
   ]
  },
  {
   "cell_type": "code",
   "execution_count": 28,
   "id": "97e7cbc1",
   "metadata": {},
   "outputs": [],
   "source": [
    "from sklearn.naive_bayes import GaussianNB\n",
    "from sklearn.linear_model import LogisticRegression\n",
    "from xgboost import plot_tree, plot_importance\n",
    "from sklearn import preprocessing\n",
    "from sklearn.feature_selection import RFE"
   ]
  },
  {
   "cell_type": "code",
   "execution_count": 29,
   "id": "a9126c1d",
   "metadata": {},
   "outputs": [
    {
     "data": {
      "text/plain": [
       "389.6676493970852"
      ]
     },
     "execution_count": 29,
     "metadata": {},
     "output_type": "execute_result"
    }
   ],
   "source": [
    "#Gaussian Naive Bayes\n",
    "tr=GaussianNB()\n",
    "tr.fit(X_train,y_train)\n",
    "y_pred=tr.predict(X_test)\n",
    "math.sqrt(mse(y_test, y_pred))"
   ]
  },
  {
   "cell_type": "code",
   "execution_count": 30,
   "id": "ad3754ac",
   "metadata": {},
   "outputs": [
    {
     "data": {
      "text/plain": [
       "292.1536511528285"
      ]
     },
     "execution_count": 30,
     "metadata": {},
     "output_type": "execute_result"
    }
   ],
   "source": [
    "#Linear Regression\n",
    "from sklearn.linear_model import LinearRegression\n",
    "lr = LinearRegression().fit(X_train, y_train)\n",
    "y_pred=lr.predict(X_test)\n",
    "math.sqrt(mse(y_test, y_pred))"
   ]
  },
  {
   "cell_type": "code",
   "execution_count": 31,
   "id": "704b5bc5",
   "metadata": {},
   "outputs": [
    {
     "data": {
      "text/plain": [
       "290.9855967276009"
      ]
     },
     "execution_count": 31,
     "metadata": {},
     "output_type": "execute_result"
    }
   ],
   "source": [
    "#Lasso Regression\n",
    "from sklearn import linear_model\n",
    "lR = linear_model.Lasso(alpha=0.4)\n",
    "lR.fit(X_test,y_test)\n",
    "y_pred=lR.predict(X_test)\n",
    "math.sqrt(mse(y_test, y_pred))"
   ]
  },
  {
   "cell_type": "code",
   "execution_count": 384,
   "id": "2e6000be",
   "metadata": {},
   "outputs": [
    {
     "data": {
      "text/plain": [
       "290.9958483368302"
      ]
     },
     "execution_count": 384,
     "metadata": {},
     "output_type": "execute_result"
    }
   ],
   "source": [
    "#Ridge Regression\n",
    "from sklearn.linear_model import Ridge\n",
    "rr = Ridge(alpha=0.01)\n",
    "rr.fit(X_test, y_test)\n",
    "y_pred=rr.predict(X_test)\n",
    "math.sqrt(mse(y_test, y_pred))"
   ]
  },
  {
   "cell_type": "code",
   "execution_count": 258,
   "id": "354cea02",
   "metadata": {},
   "outputs": [
    {
     "data": {
      "text/plain": [
       "277.81502108616814"
      ]
     },
     "execution_count": 258,
     "metadata": {},
     "output_type": "execute_result"
    }
   ],
   "source": [
    "#Decision Tree\n",
    "from sklearn.tree import DecisionTreeRegressor\n",
    "# Build decision tree\n",
    "tree=DecisionTreeRegressor(max_depth=20)\n",
    "tree.fit(X_train,y_train)\n",
    "y_pred=tree.predict(X_test)\n",
    "math.sqrt(mse(y_test, y_pred))"
   ]
  },
  {
   "cell_type": "code",
   "execution_count": 151,
   "id": "be9334b7",
   "metadata": {},
   "outputs": [
    {
     "name": "stdout",
     "output_type": "stream",
     "text": [
      "Epoch 1/100\n",
      "1180/1180 [==============================] - 2s 1ms/step - loss: 123351.8359\n",
      "Epoch 2/100\n",
      "1180/1180 [==============================] - 1s 1ms/step - loss: 112220.3125\n",
      "Epoch 3/100\n",
      "1180/1180 [==============================] - 1s 1ms/step - loss: 95117.3359\n",
      "Epoch 4/100\n",
      "1180/1180 [==============================] - 1s 1ms/step - loss: 93577.7031\n",
      "Epoch 5/100\n",
      "1180/1180 [==============================] - 1s 1ms/step - loss: 94876.0938\n",
      "Epoch 6/100\n",
      "1180/1180 [==============================] - 1s 1ms/step - loss: 94551.7266\n",
      "Epoch 7/100\n",
      "1180/1180 [==============================] - 1s 1ms/step - loss: 95690.2891\n",
      "Epoch 8/100\n",
      "1180/1180 [==============================] - 2s 1ms/step - loss: 92474.4375\n",
      "Epoch 9/100\n",
      "1180/1180 [==============================] - 2s 1ms/step - loss: 91610.2266\n",
      "Epoch 10/100\n",
      "1180/1180 [==============================] - 1s 1ms/step - loss: 92941.6641\n",
      "Epoch 11/100\n",
      "1180/1180 [==============================] - 1s 1ms/step - loss: 92544.6172\n",
      "Epoch 12/100\n",
      "1180/1180 [==============================] - 1s 1ms/step - loss: 90851.3125\n",
      "Epoch 13/100\n",
      "1180/1180 [==============================] - 1s 1ms/step - loss: 91479.2109\n",
      "Epoch 14/100\n",
      "1180/1180 [==============================] - 1s 1ms/step - loss: 91911.3594\n",
      "Epoch 15/100\n",
      "1180/1180 [==============================] - 1s 1ms/step - loss: 91075.2734\n",
      "Epoch 16/100\n",
      "1180/1180 [==============================] - 1s 1ms/step - loss: 91867.9141\n",
      "Epoch 17/100\n",
      "1180/1180 [==============================] - 1s 1ms/step - loss: 91433.8359\n",
      "Epoch 18/100\n",
      "1180/1180 [==============================] - 1s 1ms/step - loss: 90412.5000\n",
      "Epoch 19/100\n",
      "1180/1180 [==============================] - 1s 1ms/step - loss: 92914.6641\n",
      "Epoch 20/100\n",
      "1180/1180 [==============================] - 2s 1ms/step - loss: 90588.2891\n",
      "Epoch 21/100\n",
      "1180/1180 [==============================] - 1s 1ms/step - loss: 90768.2422\n",
      "Epoch 22/100\n",
      "1180/1180 [==============================] - 1s 1ms/step - loss: 90202.5312\n",
      "Epoch 23/100\n",
      "1180/1180 [==============================] - 1s 1ms/step - loss: 90106.6016\n",
      "Epoch 24/100\n",
      "1180/1180 [==============================] - 2s 1ms/step - loss: 91173.1328\n",
      "Epoch 25/100\n",
      "1180/1180 [==============================] - 2s 1ms/step - loss: 90059.5859\n",
      "Epoch 26/100\n",
      "1180/1180 [==============================] - 1s 1ms/step - loss: 89808.6797\n",
      "Epoch 27/100\n",
      "1180/1180 [==============================] - 1s 1ms/step - loss: 89502.9531\n",
      "Epoch 28/100\n",
      "1180/1180 [==============================] - 2s 1ms/step - loss: 90068.6953\n",
      "Epoch 29/100\n",
      "1180/1180 [==============================] - 1s 1ms/step - loss: 89900.7109\n",
      "Epoch 30/100\n",
      "1180/1180 [==============================] - 1s 1ms/step - loss: 90297.2500\n",
      "Epoch 31/100\n",
      "1180/1180 [==============================] - 1s 1ms/step - loss: 90367.4844\n",
      "Epoch 32/100\n",
      "1180/1180 [==============================] - 1s 1ms/step - loss: 89547.5703\n",
      "Epoch 33/100\n",
      "1180/1180 [==============================] - 1s 1ms/step - loss: 90200.2578\n",
      "Epoch 34/100\n",
      "1180/1180 [==============================] - 1s 1ms/step - loss: 89714.2578\n",
      "Epoch 35/100\n",
      "1180/1180 [==============================] - 2s 1ms/step - loss: 90139.1328\n",
      "Epoch 36/100\n",
      "1180/1180 [==============================] - 2s 1ms/step - loss: 89818.1562\n",
      "Epoch 37/100\n",
      "1180/1180 [==============================] - 1s 1ms/step - loss: 89287.2734\n",
      "Epoch 38/100\n",
      "1180/1180 [==============================] - 1s 1ms/step - loss: 89559.7500\n",
      "Epoch 39/100\n",
      "1180/1180 [==============================] - 1s 1ms/step - loss: 89455.2500\n",
      "Epoch 40/100\n",
      "1180/1180 [==============================] - 1s 1ms/step - loss: 90019.8359\n",
      "Epoch 41/100\n",
      "1180/1180 [==============================] - 1s 1ms/step - loss: 89666.2969\n",
      "Epoch 42/100\n",
      "1180/1180 [==============================] - 1s 1ms/step - loss: 89754.3984\n",
      "Epoch 43/100\n",
      "1180/1180 [==============================] - 1s 1ms/step - loss: 89309.8672\n",
      "Epoch 44/100\n",
      "1180/1180 [==============================] - 2s 1ms/step - loss: 89324.8203\n",
      "Epoch 45/100\n",
      "1180/1180 [==============================] - 2s 2ms/step - loss: 89113.2109\n",
      "Epoch 46/100\n",
      "1180/1180 [==============================] - 1s 1ms/step - loss: 89884.2031\n",
      "Epoch 47/100\n",
      "1180/1180 [==============================] - 1s 1ms/step - loss: 89204.8125\n",
      "Epoch 48/100\n",
      "1180/1180 [==============================] - 1s 1ms/step - loss: 89170.5938\n",
      "Epoch 49/100\n",
      "1180/1180 [==============================] - 1s 1ms/step - loss: 88773.5469\n",
      "Epoch 50/100\n",
      "1180/1180 [==============================] - 1s 1ms/step - loss: 89729.5859\n",
      "Epoch 51/100\n",
      "1180/1180 [==============================] - 1s 1ms/step - loss: 89349.9062\n",
      "Epoch 52/100\n",
      "1180/1180 [==============================] - 1s 1ms/step - loss: 88967.7422\n",
      "Epoch 53/100\n",
      "1180/1180 [==============================] - 1s 1ms/step - loss: 89492.8438\n",
      "Epoch 54/100\n",
      "1180/1180 [==============================] - 1s 1ms/step - loss: 88984.9688\n",
      "Epoch 55/100\n",
      "1180/1180 [==============================] - 2s 1ms/step - loss: 88947.5469\n",
      "Epoch 56/100\n",
      "1180/1180 [==============================] - 2s 1ms/step - loss: 88714.6641\n",
      "Epoch 57/100\n",
      "1180/1180 [==============================] - 1s 1ms/step - loss: 89134.3438\n",
      "Epoch 58/100\n",
      "1180/1180 [==============================] - 1s 1ms/step - loss: 88709.5625\n",
      "Epoch 59/100\n",
      "1180/1180 [==============================] - 1s 1ms/step - loss: 89066.4922\n",
      "Epoch 60/100\n",
      "1180/1180 [==============================] - 1s 1ms/step - loss: 88907.7266\n",
      "Epoch 61/100\n",
      "1180/1180 [==============================] - 1s 1ms/step - loss: 89205.6719\n",
      "Epoch 62/100\n",
      "1180/1180 [==============================] - 2s 1ms/step - loss: 87593.2891\n",
      "Epoch 63/100\n",
      "1180/1180 [==============================] - 1s 1ms/step - loss: 88434.6562\n",
      "Epoch 64/100\n",
      "1180/1180 [==============================] - 1s 1ms/step - loss: 88766.5312\n",
      "Epoch 65/100\n",
      "1180/1180 [==============================] - 1s 1ms/step - loss: 88600.7422\n",
      "Epoch 66/100\n",
      "1180/1180 [==============================] - 1s 1ms/step - loss: 89009.8984\n",
      "Epoch 67/100\n",
      "1180/1180 [==============================] - 1s 1ms/step - loss: 89764.1172\n",
      "Epoch 68/100\n",
      "1180/1180 [==============================] - 1s 1ms/step - loss: 89188.2031\n",
      "Epoch 69/100\n",
      "1180/1180 [==============================] - 1s 1ms/step - loss: 88741.7344\n",
      "Epoch 70/100\n",
      "1180/1180 [==============================] - 1s 1ms/step - loss: 89068.9219\n",
      "Epoch 71/100\n",
      "1180/1180 [==============================] - 1s 1ms/step - loss: 88396.8984\n",
      "Epoch 72/100\n",
      "1180/1180 [==============================] - 2s 2ms/step - loss: 88318.0781\n",
      "Epoch 73/100\n",
      "1180/1180 [==============================] - 2s 1ms/step - loss: 89369.3359\n",
      "Epoch 74/100\n",
      "1180/1180 [==============================] - 2s 1ms/step - loss: 89082.6094\n",
      "Epoch 75/100\n",
      "1180/1180 [==============================] - 2s 1ms/step - loss: 88870.8359\n",
      "Epoch 76/100\n",
      "1180/1180 [==============================] - 2s 1ms/step - loss: 88430.2578\n",
      "Epoch 77/100\n",
      "1180/1180 [==============================] - 2s 1ms/step - loss: 88246.3125\n",
      "Epoch 78/100\n",
      "1180/1180 [==============================] - 2s 1ms/step - loss: 89042.0078\n",
      "Epoch 79/100\n",
      "1180/1180 [==============================] - 2s 1ms/step - loss: 88687.5703\n",
      "Epoch 80/100\n",
      "1180/1180 [==============================] - 1s 1ms/step - loss: 88498.8594\n",
      "Epoch 81/100\n",
      "1180/1180 [==============================] - 1s 1ms/step - loss: 87831.8672\n",
      "Epoch 82/100\n",
      "1180/1180 [==============================] - 1s 1ms/step - loss: 88235.6484\n",
      "Epoch 83/100\n",
      "1180/1180 [==============================] - 1s 1ms/step - loss: 88056.9297\n",
      "Epoch 84/100\n",
      "1180/1180 [==============================] - 1s 1ms/step - loss: 87659.6484\n",
      "Epoch 85/100\n",
      "1180/1180 [==============================] - 1s 1ms/step - loss: 87260.9688\n",
      "Epoch 86/100\n",
      "1180/1180 [==============================] - 1s 1ms/step - loss: 87603.8516\n",
      "Epoch 87/100\n",
      "1180/1180 [==============================] - 1s 1ms/step - loss: 87950.0781\n",
      "Epoch 88/100\n",
      "1180/1180 [==============================] - 1s 1ms/step - loss: 87092.5078\n",
      "Epoch 89/100\n",
      "1180/1180 [==============================] - 1s 1ms/step - loss: 87612.9219\n",
      "Epoch 90/100\n",
      "1180/1180 [==============================] - 1s 1ms/step - loss: 87838.5625\n",
      "Epoch 91/100\n",
      "1180/1180 [==============================] - 1s 1ms/step - loss: 87640.8281\n",
      "Epoch 92/100\n",
      "1180/1180 [==============================] - 1s 1ms/step - loss: 87717.5859\n",
      "Epoch 93/100\n",
      "1180/1180 [==============================] - 1s 1ms/step - loss: 87716.0625\n",
      "Epoch 94/100\n",
      "1180/1180 [==============================] - 1s 1ms/step - loss: 88181.4297\n",
      "Epoch 95/100\n",
      "1180/1180 [==============================] - 1s 1ms/step - loss: 87779.3984\n",
      "Epoch 96/100\n",
      "1180/1180 [==============================] - 1s 1ms/step - loss: 88093.7656\n",
      "Epoch 97/100\n",
      "1180/1180 [==============================] - 1s 1ms/step - loss: 87294.5312\n",
      "Epoch 98/100\n",
      "1180/1180 [==============================] - 1s 1ms/step - loss: 86790.8281\n",
      "Epoch 99/100\n",
      "1180/1180 [==============================] - 1s 1ms/step - loss: 87311.3281\n",
      "Epoch 100/100\n",
      "1180/1180 [==============================] - 1s 1ms/step - loss: 87488.8359\n",
      "123/123 [==============================] - 0s 795us/step\n",
      "123/123 [==============================] - 0s 803us/step\n"
     ]
    },
    {
     "data": {
      "text/plain": [
       "290.2865940369999"
      ]
     },
     "execution_count": 151,
     "metadata": {},
     "output_type": "execute_result"
    }
   ],
   "source": [
    "#Neural Network\n",
    "from keras.layers import Dense, Activation\n",
    "from keras.models import Sequential\n",
    "nn = Sequential()\n",
    "nn.add(Dense(32, activation = 'relu', input_dim = 7))\n",
    "nn.add(Dense(units = 32, activation = 'relu'))\n",
    "nn.add(Dense(units = 32, activation = 'relu'))\n",
    "nn.add(Dense(units = 1))\n",
    "nn.compile(optimizer = 'adam', loss = 'mean_squared_error')\n",
    "nn.fit(X_train, y_train, batch_size = 10, epochs = 100)\n",
    "y_pred = nn.predict(X_test)\n",
    "y_pred=nn.predict(X_test)\n",
    "math.sqrt(mse(y_test, y_pred))"
   ]
  },
  {
   "cell_type": "code",
   "execution_count": 152,
   "id": "214c655a",
   "metadata": {},
   "outputs": [
    {
     "name": "stdout",
     "output_type": "stream",
     "text": [
      "RMSE value for k=  1 is: 278.54396037096296\n",
      "RMSE value for k=  2 is: 263.4657132329105\n",
      "RMSE value for k=  3 is: 262.5919287813448\n",
      "RMSE value for k=  4 is: 266.5049609527621\n",
      "RMSE value for k=  5 is: 269.5607520655727\n",
      "RMSE value for k=  6 is: 270.5017286046846\n",
      "RMSE value for k=  7 is: 271.34704522655124\n",
      "RMSE value for k=  8 is: 273.4363236562543\n",
      "RMSE value for k=  9 is: 275.1664622747592\n",
      "RMSE value for k=  10 is: 275.04460369615464\n",
      "RMSE value for k=  11 is: 275.2175757064252\n",
      "RMSE value for k=  12 is: 277.3130565800343\n",
      "RMSE value for k=  13 is: 279.14389951510964\n",
      "RMSE value for k=  14 is: 280.21945202546345\n",
      "RMSE value for k=  15 is: 281.6559615464111\n",
      "RMSE value for k=  16 is: 281.84820928162844\n",
      "RMSE value for k=  17 is: 283.22107374938275\n",
      "RMSE value for k=  18 is: 284.3385215887271\n",
      "RMSE value for k=  19 is: 285.55656652854657\n",
      "RMSE value for k=  20 is: 286.17231891025983\n"
     ]
    }
   ],
   "source": [
    "#KNN\n",
    "from sklearn import neighbors\n",
    "rmse_val = [] #to store rmse values for different k\n",
    "for K in range(20):\n",
    "    K = K+1\n",
    "    knn = neighbors.KNeighborsRegressor(n_neighbors = K)\n",
    "\n",
    "    knn.fit(X_train, y_train)  #fit the model\n",
    "    y_pred=knn.predict(X_test) #make prediction on test set\n",
    "    error = math.sqrt(mse(y_test,y_pred)) #calculate rmse\n",
    "    rmse_val.append(error) #store rmse values\n",
    "    print('RMSE value for k= ' , K , 'is:', error)"
   ]
  },
  {
   "cell_type": "code",
   "execution_count": 153,
   "id": "b009e203",
   "metadata": {},
   "outputs": [
    {
     "data": {
      "text/plain": [
       "589.1048481581198"
      ]
     },
     "execution_count": 153,
     "metadata": {},
     "output_type": "execute_result"
    }
   ],
   "source": [
    "#SVM\n",
    "from sklearn.svm import SVR\n",
    "\n",
    "# Choose regression method and set hyperparameter\n",
    "svr_rbf=SVR(C=1.0, epsilon=0.4, kernel='rbf')\n",
    "\n",
    "# Training of the regression model\n",
    "svr_rbf.fit(X_train, y_train)\n",
    "y_pred = svr_rbf.predict(X_test)\n",
    "math.sqrt(mse(y_test, y_pred))"
   ]
  },
  {
   "cell_type": "code",
   "execution_count": 154,
   "id": "c87b0b07",
   "metadata": {},
   "outputs": [
    {
     "data": {
      "text/plain": [
       "644.0632935213205"
      ]
     },
     "execution_count": 154,
     "metadata": {},
     "output_type": "execute_result"
    }
   ],
   "source": [
    "#Light GBM\n",
    "import lightgbm as lgb\n",
    "from lightgbm import LGBMClassifier\n",
    "lgb = LGBMClassifier()\n",
    "lgb.fit(X_train, y_train)\n",
    "y_pred = lgb.predict(X_test)\n",
    "math.sqrt(mse(y_test, y_pred))"
   ]
  },
  {
   "cell_type": "code",
   "execution_count": 155,
   "id": "c60f8b43",
   "metadata": {},
   "outputs": [
    {
     "data": {
      "text/plain": [
       "304.3446623432367"
      ]
     },
     "execution_count": 155,
     "metadata": {},
     "output_type": "execute_result"
    }
   ],
   "source": [
    "#AdaBoost\n",
    "from sklearn.ensemble import AdaBoostRegressor\n",
    "ada= AdaBoostRegressor(n_estimators=100)\n",
    "ada.fit(X_train,y_train)\n",
    "y_pred=ada.predict(X_test)\n",
    "math.sqrt(mse(y_test,y_pred))"
   ]
  },
  {
   "cell_type": "code",
   "execution_count": 33,
   "id": "3e1c1960",
   "metadata": {},
   "outputs": [
    {
     "data": {
      "text/plain": [
       "212.95462963057162"
      ]
     },
     "execution_count": 33,
     "metadata": {},
     "output_type": "execute_result"
    }
   ],
   "source": [
    "#Random Forest Regressor\n",
    "from sklearn.ensemble import RandomForestRegressor\n",
    "from sklearn.datasets import make_regression\n",
    "rfr = RandomForestRegressor(max_depth=30,max_features=5,min_samples_leaf=1,min_samples_split=2,n_estimators=580,bootstrap=True)\n",
    "rfr.fit(X_train, y_train)\n",
    "y_pred=rfr.predict(X_test)\n",
    "math.sqrt(mse(y_test, y_pred))"
   ]
  },
  {
   "cell_type": "code",
   "execution_count": 354,
   "id": "90038a23",
   "metadata": {},
   "outputs": [
    {
     "data": {
      "text/plain": [
       "228.10433360229936"
      ]
     },
     "execution_count": 354,
     "metadata": {},
     "output_type": "execute_result"
    }
   ],
   "source": [
    "#Extreme Gradient Boosting\n",
    "import xgboost as xg\n",
    "xgb_r = xg.XGBRegressor(max_depth=6, n_estimators=700,learning_rate=0.4,gamma=0.7,eval_metric='rmse')\n",
    "xgb_r.fit(X_train, y_train)\n",
    "y_pred=xgb_r.predict(X_test)\n",
    "math.sqrt(mse(y_test, y_pred))"
   ]
  },
  {
   "cell_type": "code",
   "execution_count": 355,
   "id": "1adb978b",
   "metadata": {},
   "outputs": [],
   "source": [
    "#Stacking\n",
    "models1=[('rfr',RandomForestRegressor(max_depth=30,max_features=5,min_samples_leaf=1,min_samples_split=2,n_estimators=580,bootstrap=True)),\n",
    "         ('xgb_r',xg.XGBRegressor(max_depth=6, n_estimators=700,learning_rate=0.4,gamma=0.7,eval_metric='rmse'))]"
   ]
  },
  {
   "cell_type": "code",
   "execution_count": 356,
   "id": "4ff7f672",
   "metadata": {},
   "outputs": [],
   "source": [
    "meta=LinearRegression()"
   ]
  },
  {
   "cell_type": "code",
   "execution_count": 357,
   "id": "598e192d",
   "metadata": {},
   "outputs": [],
   "source": [
    "from sklearn.ensemble import StackingRegressor\n",
    "stack=StackingRegressor(estimators=models1,final_estimator=meta,cv=5)"
   ]
  },
  {
   "cell_type": "code",
   "execution_count": 103,
   "id": "f3586369",
   "metadata": {},
   "outputs": [
    {
     "data": {
      "text/plain": [
       "210.38586512530736"
      ]
     },
     "execution_count": 103,
     "metadata": {},
     "output_type": "execute_result"
    }
   ],
   "source": [
    "stack.fit(X_train, y_train)\n",
    "y_pred=stack.predict(X_test)\n",
    "math.sqrt(mse(y_test, y_pred))"
   ]
  },
  {
   "cell_type": "code",
   "execution_count": 358,
   "id": "f94d1446",
   "metadata": {},
   "outputs": [
    {
     "data": {
      "text/html": [
       "<div>\n",
       "<style scoped>\n",
       "    .dataframe tbody tr th:only-of-type {\n",
       "        vertical-align: middle;\n",
       "    }\n",
       "\n",
       "    .dataframe tbody tr th {\n",
       "        vertical-align: top;\n",
       "    }\n",
       "\n",
       "    .dataframe thead th {\n",
       "        text-align: right;\n",
       "    }\n",
       "</style>\n",
       "<table border=\"1\" class=\"dataframe\">\n",
       "  <thead>\n",
       "    <tr style=\"text-align: right;\">\n",
       "      <th></th>\n",
       "      <th>Rating</th>\n",
       "      <th>maincateg</th>\n",
       "      <th>platform</th>\n",
       "      <th>actprice1</th>\n",
       "      <th>norating1</th>\n",
       "      <th>noreviews1</th>\n",
       "      <th>fulfilled1</th>\n",
       "    </tr>\n",
       "  </thead>\n",
       "  <tbody>\n",
       "    <tr>\n",
       "      <th>0</th>\n",
       "      <td>3.8</td>\n",
       "      <td>1</td>\n",
       "      <td>1</td>\n",
       "      <td>999</td>\n",
       "      <td>27928</td>\n",
       "      <td>3543</td>\n",
       "      <td>1</td>\n",
       "    </tr>\n",
       "    <tr>\n",
       "      <th>1</th>\n",
       "      <td>3.9</td>\n",
       "      <td>0</td>\n",
       "      <td>1</td>\n",
       "      <td>499</td>\n",
       "      <td>3015</td>\n",
       "      <td>404</td>\n",
       "      <td>1</td>\n",
       "    </tr>\n",
       "    <tr>\n",
       "      <th>2</th>\n",
       "      <td>3.9</td>\n",
       "      <td>0</td>\n",
       "      <td>1</td>\n",
       "      <td>999</td>\n",
       "      <td>449</td>\n",
       "      <td>52</td>\n",
       "      <td>1</td>\n",
       "    </tr>\n",
       "    <tr>\n",
       "      <th>3</th>\n",
       "      <td>3.9</td>\n",
       "      <td>1</td>\n",
       "      <td>1</td>\n",
       "      <td>2999</td>\n",
       "      <td>290</td>\n",
       "      <td>40</td>\n",
       "      <td>1</td>\n",
       "    </tr>\n",
       "    <tr>\n",
       "      <th>4</th>\n",
       "      <td>3.9</td>\n",
       "      <td>1</td>\n",
       "      <td>1</td>\n",
       "      <td>999</td>\n",
       "      <td>2423</td>\n",
       "      <td>326</td>\n",
       "      <td>0</td>\n",
       "    </tr>\n",
       "  </tbody>\n",
       "</table>\n",
       "</div>"
      ],
      "text/plain": [
       "   Rating  maincateg  platform  actprice1  norating1  noreviews1  fulfilled1\n",
       "0     3.8          1         1        999      27928        3543           1\n",
       "1     3.9          0         1        499       3015         404           1\n",
       "2     3.9          0         1        999        449          52           1\n",
       "3     3.9          1         1       2999        290          40           1\n",
       "4     3.9          1         1        999       2423         326           0"
      ]
     },
     "execution_count": 358,
     "metadata": {},
     "output_type": "execute_result"
    }
   ],
   "source": [
    "test.head()"
   ]
  },
  {
   "cell_type": "code",
   "execution_count": 163,
   "id": "fd0b9750",
   "metadata": {},
   "outputs": [],
   "source": [
    "ss = {\n",
    "    'max_depth': [20,25, 30, 40],\n",
    "    'max_features': [3,5,6],\n",
    "    'min_samples_leaf': [1,2,3],\n",
    "    'min_samples_split': [1,2,3],\n",
    "    'n_estimators': [500,550,600]\n",
    "}"
   ]
  },
  {
   "cell_type": "code",
   "execution_count": null,
   "id": "d1c5886e",
   "metadata": {},
   "outputs": [],
   "source": [
    "from sklearn.model_selection import GridSearchCV\n",
    "gs=GridSearchCV(estimator=rfr,\n",
    "               param_grid=ss,\n",
    "               scoring=[\"r2\",\"neg_root_mean_squared_error\"],\n",
    "                cv=3,\n",
    "                n_jobs=-1,\n",
    "                verbose=2,refit=False)\n",
    "gs.fit(X_train,y_train)"
   ]
  },
  {
   "cell_type": "code",
   "execution_count": 34,
   "id": "762d6589",
   "metadata": {},
   "outputs": [],
   "source": [
    "rfr = RandomForestRegressor(max_depth=30,max_features=5,min_samples_leaf=1,min_samples_split=2,n_estimators=580,bootstrap=True)\n",
    "rfr.fit(X, y)\n",
    "y_pred1=rfr.predict(test)"
   ]
  },
  {
   "cell_type": "code",
   "execution_count": 386,
   "id": "7df0eb8e",
   "metadata": {},
   "outputs": [],
   "source": [
    "xgb_r = xg.XGBRegressor(max_depth=6, n_estimators=700,learning_rate=0.4,gamma=0.7,eval_metric='rmse')\n",
    "xgb_r.fit(X, y)\n",
    "y_pred2=xgb_r.predict(test)"
   ]
  },
  {
   "cell_type": "code",
   "execution_count": 387,
   "id": "8b9be377",
   "metadata": {},
   "outputs": [],
   "source": [
    "y_pred=y_pred1"
   ]
  },
  {
   "cell_type": "code",
   "execution_count": 388,
   "id": "55de587c",
   "metadata": {},
   "outputs": [],
   "source": [
    "for i in range(len(y_pred1)):\n",
    "    y_pred[i]=(y_pred1[i]+y_pred2[i])/2"
   ]
  },
  {
   "cell_type": "code",
   "execution_count": 389,
   "id": "03e99fae",
   "metadata": {},
   "outputs": [],
   "source": [
    "stack=StackingRegressor(estimators=models1,final_estimator=rr,cv=5)\n",
    "stack.fit(X, y)\n",
    "y_pred4=stack.predict(test)"
   ]
  },
  {
   "cell_type": "code",
   "execution_count": 390,
   "id": "7fe83160",
   "metadata": {},
   "outputs": [],
   "source": [
    "for i in range(len(y_pred)):\n",
    "    y_pred[i]=(y_pred[i]+y_pred4[i])/2"
   ]
  },
  {
   "cell_type": "code",
   "execution_count": 391,
   "id": "c1d2c0e1",
   "metadata": {},
   "outputs": [],
   "source": [
    "res1=pd.DataFrame(y_pred)\n",
    "res1.columns = [\"price1\"]\n",
    "ID['price1']=res1['price1']\n",
    "ID.to_csv(\"pred_Stack.csv\", index = False)"
   ]
  },
  {
   "cell_type": "code",
   "execution_count": 392,
   "id": "3650e388",
   "metadata": {},
   "outputs": [
    {
     "data": {
      "text/plain": [
       "(5244,)"
      ]
     },
     "execution_count": 392,
     "metadata": {},
     "output_type": "execute_result"
    }
   ],
   "source": [
    "y_pred.shape"
   ]
  },
  {
   "cell_type": "code",
   "execution_count": null,
   "id": "3b20f523",
   "metadata": {},
   "outputs": [],
   "source": []
  }
 ],
 "metadata": {
  "kernelspec": {
   "display_name": "Python 3 (ipykernel)",
   "language": "python",
   "name": "python3"
  },
  "language_info": {
   "codemirror_mode": {
    "name": "ipython",
    "version": 3
   },
   "file_extension": ".py",
   "mimetype": "text/x-python",
   "name": "python",
   "nbconvert_exporter": "python",
   "pygments_lexer": "ipython3",
   "version": "3.9.12"
  }
 },
 "nbformat": 4,
 "nbformat_minor": 5
}
